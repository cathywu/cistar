{
 "cells": [
  {
   "cell_type": "markdown",
   "metadata": {},
   "source": [
    "# Tutorial 14: Custom Network with lane area detectors\n",
    "In tutorial 7 was shown how to create a network with custom templates. Now this functionality shall be extended by the ability to add lane area detectors. \n",
    "Therefore this tutorial guides you through the process of creating a simulation with lane area detectors, as well as of how to create an environment, in which information is retrieved from the detectors for the reinforcement learning process.\n",
    "The remainder of this tutorial is structured as follows:\n",
    "\n",
    "* In Section 1 the classic set of aparameters is imported\n",
    "* Section 2 guides you through the process of creating the pure simulation of the LuST Scenario as seen in tutorial 7 and  extend this by adding lane area detectors to the network\n",
    "* Section 3 shows schematically how to use the lane area detectors for reinforcement learning"
   ]
  },
  {
   "cell_type": "markdown",
   "metadata": {},
   "source": [
    "## 1. Importing Modules\n",
    "Before we begin, let us import all relevant Flow parameters as we have done for previous tutorials. If you are unfamiliar with these parameters, you are encouraged to review tutorial 1."
   ]
  },
  {
   "cell_type": "code",
   "execution_count": null,
   "metadata": {},
   "outputs": [],
   "source": [
    "# the TestEnv environment is used to simply simulate the network\n",
    "from flow.envs import TestEnv\n",
    "\n",
    "# the Experiment class is used for running simulations\n",
    "from flow.core.experiment import Experiment\n",
    "\n",
    "# the base network class\n",
    "from flow.networks import Network\n",
    "\n",
    "# all other imports are standard\n",
    "from flow.core.params import VehicleParams\n",
    "from flow.core.params import NetParams\n",
    "from flow.core.params import InitialConfig\n",
    "from flow.core.params import EnvParams\n",
    "\n",
    "# create some default parameters parameters\n",
    "HORIZON=1000\n",
    "env_params = EnvParams(horizon=HORIZON)\n",
    "initial_config = InitialConfig()"
   ]
  },
  {
   "cell_type": "markdown",
   "metadata": {},
   "source": [
    "## 2. Create simulation with lane area detectors"
   ]
  },
  {
   "cell_type": "markdown",
   "metadata": {},
   "source": [
    "### 2.1 Download LuST Scenario\n",
    "\n",
    "If you did not already download the LuSTScenario in tutorial 7, do it now by running the following command:\n",
    "\n",
    "git clone https://github.com/lcodeca/LuSTScenario.git\n",
    "\n",
    "Once you have cloned the repository, please modify the code snippet below to match correct location of the repository's main directory."
   ]
  },
  {
   "cell_type": "code",
   "execution_count": null,
   "metadata": {},
   "outputs": [],
   "source": [
    "LuST_dir = \"/path/to/LuSTScenario\""
   ]
  },
  {
   "cell_type": "markdown",
   "metadata": {},
   "source": [
    "### 2.2 Add some InFlows for visualization purposes and later training"
   ]
  },
  {
   "cell_type": "markdown",
   "metadata": {},
   "source": [
    "Start by creating the simulation paramaters. Set restart instance true, because otherwise inflows might slow down the process."
   ]
  },
  {
   "cell_type": "code",
   "execution_count": null,
   "metadata": {},
   "outputs": [],
   "source": [
    "from flow.core.params import SumoParams\n",
    "\n",
    "sim_params = SumoParams(render=True, sim_step=1, restart_instance=True)"
   ]
  },
  {
   "cell_type": "code",
   "execution_count": null,
   "metadata": {},
   "outputs": [],
   "source": [
    "vehicles=VehicleParams()"
   ]
  },
  {
   "cell_type": "code",
   "execution_count": null,
   "metadata": {},
   "outputs": [],
   "source": [
    "from flow.core.params import InFlows\n",
    "\n",
    "inflow = InFlows()\n",
    "\n",
    "# chose examplary inflow-edges\n",
    "inflow.add(veh_type=\"human\",\n",
    "           edge=\"-31846#2\",\n",
    "           vehs_per_hour=200)\n",
    "inflow.add(veh_type=\"human\",\n",
    "           edge=\"-31850#0\",\n",
    "           vehs_per_hour=200)\n",
    "inflow.add(veh_type=\"human\",\n",
    "           edge=\"-31854#1\""
   ]
  },
  {
   "cell_type": "markdown",
   "metadata": {},
   "source": [
    "### 2.3 Creating an additional file with detector information\n",
    "\n",
    "Now, additionally to the specifications \"net\", \"vtype\" and \"rou\" that were introduced in tutorial 7, a fourth file can be added, that is called \"det\".\n",
    "An example xml could look like this:\n",
    "\n",
    "<img src=\"img/detector_file.png\">\n",
    "<center><b>Figure 2</b>: Simulation of the LuST network </center>\n",
    "\n",
    "Just check out the lane-ids of the LuST network, where you want to place your lane area detectors, and specify them like in the image shown above."
   ]
  },
  {
   "cell_type": "code",
   "execution_count": null,
   "metadata": {},
   "outputs": [],
   "source": [
    "import os\n",
    "\n",
    "net_params = NetParams(\n",
    "    inflows=inflow,\n",
    "    template={\n",
    "        # network geometry features\n",
    "        \"net\": os.path.join(LuST_dir, \"scenario/lust.net.xml\"),\n",
    "        # features associated with the properties of drivers\n",
    "        \"vtype\": os.path.join(LuST_dir, \"scenario/vtypes.add.xml\"),\n",
    "        # features associated with the routes vehicles take\n",
    "        \"rou\": [os.path.join(LuST_dir, \"scenario/DUARoutes/local.0.rou.xml\"),\n",
    "                os.path.join(LuST_dir, \"scenario/DUARoutes/local.1.rou.xml\"),\n",
    "                os.path.join(LuST_dir, \"scenario/DUARoutes/local.2.rou.xml\")]\n",
    "        # features associated with the detectors in the network\n",
    "        # you need to create the file and specifiy its path here\n",
    "        \"det\": os.path.join(\"path/to/detectors.add.xml\")\n",
    "    }\n",
    ")"
   ]
  },
  {
   "cell_type": "markdown",
   "metadata": {},
   "source": [
    "### 2.4Create custom network with lane area detectors"
   ]
  },
  {
   "cell_type": "markdown",
   "metadata": {},
   "source": [
    "Finally, the fully imported simulation can be run as follows. "
   ]
  },
  {
   "cell_type": "code",
   "execution_count": null,
   "metadata": {
    "scrolled": true
   },
   "outputs": [],
   "source": [
    "# create the network\n",
    "network = Network(\n",
    "    name=\"template\",\n",
    "    net_params=net_params,\n",
    "    vehicles=vehicles\n",
    ")\n",
    "\n",
    "# create the environment for pure simulation\n",
    "env = TestEnv(\n",
    "    env_params=env_params,\n",
    "    sim_params=sim_params,\n",
    "    network=network\n",
    ")\n",
    "\n",
    "# run the simulation for 1000 steps\n",
    "exp = Experiment(env=env)\n",
    "_ = exp.run(1, 1000)"
   ]
  },
  {
   "cell_type": "markdown",
   "metadata": {},
   "source": [
    "## 3. Doing reinforcement learning\n",
    "Learning works in the same way as before. One needs to create an appropriate environment and just plug in the cutomized network."
   ]
  },
  {
   "cell_type": "markdown",
   "metadata": {},
   "source": [
    "### 3.1 Create environment\n",
    "Here you can see a schematic environment, that makes use of lane area detectors. The information of the lane area detectors can be easily retrieved from self.k (kernel) as seen in earlier tutorials."
   ]
  },
  {
   "cell_type": "code",
   "execution_count": null,
   "metadata": {},
   "outputs": [],
   "source": [
    "from flow.envs import Env\n",
    "class SimpleEnv(Env):\n",
    "    \n",
    "    def __init__(self, env_params, sim_params, network, simulator='traci'):\n",
    "        super(SimpleEnv, self).__init__(env_params, sim_params, network, simulator='traci')\n",
    "        self.det_ids = []\n",
    "        self.veh_seen = []\n",
    "        \n",
    "        ...\n",
    "    \n",
    "    @property\n",
    "    def action_space(self):\n",
    "        ...\n",
    "    \n",
    "    @property\n",
    "    def observation_space(self):\n",
    "        number_of_ILs = len(self.k.lane_area_detector.get_ids())\n",
    "        # nVehSeen reward shall be -nVehSeen, hence 1 variable per detector:\n",
    "        number_of_signals = 1\n",
    "        return Box(low=0, high=10000, shape=(number_of_signals * number_of_ILs,))\n",
    "    \n",
    "    def get_state(self):\n",
    "        self.det_ids = self.k.lane_area_detector.get_ids()\n",
    "        self.veh_seen = []\n",
    "        for detector_id in self.det_ids:\n",
    "            self.veh_seen.append(self.k.lane_area_detector.get_n_veh_seen(detector_id))\n",
    "        return np.asarray(self.veh_seen)\n",
    "    \n",
    "    def _apply_rl_actions(self, rl_actions):\n",
    "        ...\n",
    "        \n",
    "        \n",
    "    def compute_reward(self, rl_actions, **kwargs):\n",
    "        reward = -np.sum(self.veh_seen)\n",
    "        return reward"
   ]
  },
  {
   "cell_type": "markdown",
   "metadata": {},
   "source": [
    "### 3.2 Do the common process for RL training in flow\n",
    "The following process should be familiar from the other tutorials. For example from tutorial 3 or 8"
   ]
  },
  {
   "cell_type": "markdown",
   "metadata": {},
   "source": [
    "#### 3.2.1 Import custom environment\n",
    "The custom environment needs to be important in order to work properly in flow."
   ]
  },
  {
   "cell_type": "code",
   "execution_count": null,
   "metadata": {},
   "outputs": [],
   "source": [
    "from flow.envs.simple_env import SimpleEnv\n",
    "env_name = SimpleEnv"
   ]
  },
  {
   "cell_type": "code",
   "execution_count": null,
   "metadata": {},
   "outputs": [],
   "source": [
    "# Creating flow_params. Make sure the dictionary keys are as specified. \n",
    "flow_params = dict(\n",
    "    # name of the experiment\n",
    "    exp_tag=\"first_exp\",\n",
    "    # name of the flow environment the experiment is running on\n",
    "    env_name=env_name,\n",
    "    # name of the network class the experiment uses\n",
    "    network=Network,\n",
    "    # simulator that is used by the experiment\n",
    "    ## the detectors are only usable for traci simulator right now! ##\n",
    "    simulator='traci',\n",
    "    # sumo-related parameters (see flow.core.params.SumoParams)\n",
    "    sim=sim_params,\n",
    "    # environment related parameters (see flow.core.params.EnvParams)\n",
    "    env=env_params,\n",
    "    # network-related parameters (see flow.core.params.NetParams and\n",
    "    # the network's documentation or ADDITIONAL_NET_PARAMS component)\n",
    "    net=net_params,\n",
    "    # vehicles to be placed in the network at the start of a rollout \n",
    "    # (see flow.core.vehicles.Vehicles)\n",
    "    veh=VehicleParams(),\n",
    "    # (optional) parameters affecting the positioning of vehicles upon \n",
    "    # initialization/reset (see flow.core.params.InitialConfig)\n",
    "    initial=initial_config\n",
    ")"
   ]
  },
  {
   "cell_type": "code",
   "execution_count": null,
   "metadata": {},
   "outputs": [],
   "source": [
    "import json\n",
    "\n",
    "import ray\n",
    "try:\n",
    "    from ray.rllib.agents.agent import get_agent_class\n",
    "except ImportError:\n",
    "    from ray.rllib.agents.registry import get_agent_class\n",
    "from ray.tune import run_experiments\n",
    "from ray.tune.registry import register_env\n",
    "\n",
    "from flow.utils.registry import make_create_env\n",
    "from flow.utils.rllib import FlowParamsEncoder"
   ]
  },
  {
   "cell_type": "code",
   "execution_count": null,
   "metadata": {},
   "outputs": [],
   "source": [
    "# number of parallel workers\n",
    "N_CPUS = 2\n",
    "# number of rollouts per training iteration\n",
    "N_ROLLOUTS = 1\n",
    "\n",
    "ray.init(num_cpus=N_CPUS)"
   ]
  },
  {
   "cell_type": "code",
   "execution_count": null,
   "metadata": {},
   "outputs": [],
   "source": [
    "# The algorithm or model to train. This may refer to \"\n",
    "#      \"the name of a built-on algorithm (e.g. RLLib's DQN \"\n",
    "#      \"or PPO), or a user-defined trainable function or \"\n",
    "#      \"class registered in the tune registry.\")\n",
    "alg_run = \"PPO\"\n",
    "\n",
    "BATCH_SIZE = HORIZON\n",
    "\n",
    "agent_cls = get_agent_class(alg_run)\n",
    "config = agent_cls._default_config.copy()\n",
    "config[\"num_workers\"] = N_CPUS - 1  # number of parallel workers\n",
    "config[\"train_batch_size\"] = BATCH_SIZE  # batch size\n",
    "config[\"gamma\"] = 0.999  # discount rate\n",
    "config[\"model\"].update({\"fcnet_hiddens\": [16, 16]})  # size of hidden layers in network\n",
    "config[\"use_gae\"] = True  # using generalized advantage estimation\n",
    "config[\"lambda\"] = 0.97  \n",
    "config[\"sgd_minibatch_size\"] = min(16 * 1024, config[\"train_batch_size\"])  # stochastic gradient descent\n",
    "config[\"kl_target\"] = 0.02  # target KL divergence\n",
    "config[\"num_sgd_iter\"] = 10  # number of SGD iterations\n",
    "config[\"horizon\"] = HORIZON  # rollout horizon\n",
    "\n",
    "# save the flow params for replay\n",
    "flow_json = json.dumps(flow_params, cls=FlowParamsEncoder, sort_keys=True,\n",
    "                       indent=4)  # generating a string version of flow_params\n",
    "config['env_config']['flow_params'] = flow_json  # adding the flow_params to config dict\n",
    "config['env_config']['run'] = alg_run\n",
    "\n",
    "# Call the utility function make_create_env to be able to \n",
    "# register the Flow env for this experiment\n",
    "create_env, gym_name = make_create_env(params=flow_params, version=0)\n",
    "\n",
    "# Register as rllib env with Gym\n",
    "register_env(gym_name, create_env)"
   ]
  },
  {
   "cell_type": "code",
   "execution_count": null,
   "metadata": {
    "scrolled": false
   },
   "outputs": [],
   "source": [
    "trials = run_experiments({\n",
    "    flow_params[\"exp_tag\"]: {\n",
    "        \"run\": alg_run,\n",
    "        \"env\": gym_name,\n",
    "        \"config\": {\n",
    "            **config\n",
    "        },\n",
    "        \"checkpoint_freq\": 1,  # number of iterations between checkpoints\n",
    "        \"checkpoint_at_end\": True,  # generate a checkpoint at the end\n",
    "        \"max_failures\": 999,\n",
    "        \"stop\": {  # stopping conditions\n",
    "            \"training_iteration\": 1,  # number of iterations to stop after\n",
    "        },\n",
    "    },\n",
    "})"
   ]
  },
  {
   "cell_type": "code",
   "execution_count": null,
   "metadata": {},
   "outputs": [],
   "source": []
  }
 ],
 "metadata": {
  "kernelspec": {
   "display_name": "Python 3",
   "language": "python",
   "name": "python3"
  },
  "language_info": {
   "codemirror_mode": {
    "name": "ipython",
    "version": 3
   },
   "file_extension": ".py",
   "mimetype": "text/x-python",
   "name": "python",
   "nbconvert_exporter": "python",
   "pygments_lexer": "ipython3",
   "version": "3.6.9"
  }
 },
 "nbformat": 4,
 "nbformat_minor": 2
}
