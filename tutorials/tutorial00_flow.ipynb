{
 "cells": [
  {
   "cell_type": "markdown",
   "metadata": {},
   "source": [
    "# Tutorial 0: Flow\n",
    "\n",
    "This tutorial serves as an introduction to Flow; it will give you a better understanding about how to use it and will walk you through the structure of our code. Whether you want to be serious about using Flow or wish to contribute to the project, it is important that you first understand the flow of our codebase.\n",
    "\n",
    "Note that this is not an installation tutorial. Flow's installation instructions are available [here](http://flow.readthedocs.io/en/latest/flow_setup.html). \n",
    "\n",
    "This tutorial is organized as follows:\n",
    "\n",
    "* **[Section 1](#1.-High-level-flow)** gives a high-level explanation of how to use Flow.\n",
    "* **[Section 2](#2.-Low-level-content)** provides a description for each folder within the `flow` directory.\n",
    "* **[Section 3](#3.-Examples)** talks about Flow's example codes and how to use them.\n",
    "\n",
    "You may want to skip sections 2 and 3 if you are just getting started with Flow, but you should definitely come back to it later. Section 1 is however a highly recommended read to get you started and to be sure you understand the basics of Flow. Section 3 talks about our example codes, which are good starting points for you to work with once you are done with the tutorials. Finally, you should read through Section 2 if you wish to understand more precisely how Flow works, so that you have a better grasp at how the examples are built and can start working on your own, custom ones. \n",
    "\n",
    "**How to get help:** If you happen, throughout this tutorial or the following ones, to have any general or technical question related to Flow, don't hesitate to have a look on [Stack Overflow](https://stackoverflow.com/questions/tagged/flow-project) and see if it has been answered already, or otherwise to post it using the tag `flow-project`. We will be happy to help you!"
   ]
  },
  {
   "cell_type": "markdown",
   "metadata": {},
   "source": [
    "## 1. High-level flow\n",
    "\n",
    "Flow acts as a bridge between a traffic simulator (e.g. Sumo, Aimsun...) and a reinforcement learning library (e.g. RLlib, rllab...). It provides you with an interface that lets you train agents on a custom road network without having to worry about integration with the traffic simulator and the learning library. Flow creates this connection automatically, and also provides you with some tools to analyze the trained policies.\n",
    "\n",
    "In order to get started and train your own agent on your own road network, all you will need is: \n",
    "\n",
    "- <u>**a scenario**</u>: this is basically the term we use to talk about a road network. A scenario is a class that contains information about the road network on which your agents will be trained. It describes the roads (position, size, number of lanes, speed limit...), the connections between the roads (junctions, intersections...) and possibly other information (traffic lights...).\n",
    "\n",
    "- <u>**an environment**</u>: this is an RL environment _(**not to be confused** with the physical environment that we call scenario)_. It is a class that allows you to control how the agent will be trained. You should define and can then tune: a **state space** (what the agent can see, for instance the position and speed of all vehicles in the network, or the difference of speed with the vehicle in front of the agent), an **action space** (what the agent can do, for instance a list of accelerations to apply to all RL vehicles, or a list of new states for all traffic lights), and a **reward function** (what the agent will try to maximize, for instance the mean speed of all vehicles in the network).\n",
    "\n",
    "_Flow already contains a dozen of pre-defined [scenarios](#2.7---scenarios) and their corresponding [environments](#2.4---envs) that you can re-use or use as models to build your own scenarios and environments._\n",
    "\n",
    "Once you have defined these two classes, the last step is to set up the parameters of the simulation, for instance:\n",
    "\n",
    "- number of iterations (for the RL algorithm), number of rollouts (simulations) in each iteration, horizon (number of steps in each rollout)\n",
    "\n",
    "- vehicles to add in the network (human vehicles, RL vehicles, vehicle inflows...), color sequences for traffic lights (if there are any)\n",
    "\n",
    "- Flow parameters: name of the simulation, scenario and environment classes to be used, simulator to use (Sumo, Aimsun...)\n",
    "\n",
    "- RL algorithm to use (PPO, TRPO...), parameters of the algorithm (discount rate, neural network parameters...), number of CPUs/GPUs to use, checkpoint frequency, whether or not to restart from an old checkpoint (to resume training or do transfer learning)\n",
    "\n",
    "- whether or not to render the simulation (if you don't see anything happening in the simulator when you run the experiment, it is because rendering has been disabled, which makes training significantly faster)\n",
    "\n",
    "It is also possible to run a simulation without doing any training, in this case you won't need any environment or RL algorithm.\n",
    "\n",
    "Flow has a lot of [examples](#3.-Examples) setting up all these simulation parameters, so you can simply take one of them and modify it according to your needs. Once this is done, you can execute the Python file where the experiment is set up and the training shall begin. \n",
    "\n",
    "During the training or after it has ended, you can use Flow's visualization tools in order to visualize the data saved in the checkpoint files generated during the training. You can see how well your agent is doing by running a new simulation in the simulator, that will used the trained policy (this time, the simulation will be rendered). You can also plot the reward or return functions, time-space diagrams, capacity diagrams etc.\n",
    "\n",
    "In the next section, we will explain in more details how Flow's codebase is organized, so that you can apply what you learned in this section in practice. It will also help you understand what is happening under the hood, in case you wish to contribute to improving the code!"
   ]
  },
  {
   "cell_type": "markdown",
   "metadata": {},
   "source": [
    "## 2. Low-level content"
   ]
  },
  {
   "cell_type": "markdown",
   "metadata": {},
   "source": [
    "Within the `flow` directory, you will find the following folders:\n",
    "\n",
    "- [`benchmarks`](#2.1---benchmarks)\n",
    "\n",
    "- [`controllers`](#2.2---controllers)\n",
    "\n",
    "- [`core`](#2.3---core)\n",
    "\n",
    "- [`envs`](#2.4---envs)\n",
    "\n",
    "- [`multiagent_envs`](#2.5---multiagent_envs)\n",
    "\n",
    "- [`renderer`](#2.6---renderer)\n",
    "\n",
    "- [`scenarios`](#2.7---scenarios)\n",
    "\n",
    "- [`utils`](#2.8---utils)\n",
    "\n",
    "- [`visualize`](#2.9---visualize)\n",
    "\n",
    "The content of each of these folders is detailed in the following subsections. "
   ]
  },
  {
   "cell_type": "markdown",
   "metadata": {},
   "source": [
    "## 2.1 - `benchmarks`\n",
    "\n",
    "TODO\n",
    "\n",
    "-- btw, website linked at https://github.com/flow-project/flow/tree/master/flow/benchmarks#reporting-optimal-scores doesn't seem functional?"
   ]
  },
  {
   "cell_type": "markdown",
   "metadata": {},
   "source": [
    "## 2.2 - `controllers`\n",
    "\n",
    "TODO"
   ]
  },
  {
   "cell_type": "markdown",
   "metadata": {},
   "source": [
    "## 2.3 - `core`"
   ]
  },
  {
   "cell_type": "markdown",
   "metadata": {},
   "source": [
    "## 2.4 - `envs`"
   ]
  },
  {
   "cell_type": "markdown",
   "metadata": {},
   "source": [
    "## 2.5 - `multiagent_envs`"
   ]
  },
  {
   "cell_type": "markdown",
   "metadata": {},
   "source": [
    "## 2.6 - `renderer`"
   ]
  },
  {
   "cell_type": "markdown",
   "metadata": {},
   "source": [
    "## 2.7 - `scenarios`"
   ]
  },
  {
   "cell_type": "markdown",
   "metadata": {},
   "source": [
    "## 2.8 - `utils`"
   ]
  },
  {
   "cell_type": "markdown",
   "metadata": {},
   "source": [
    "## 2.9 - `visualize`"
   ]
  },
  {
   "cell_type": "markdown",
   "metadata": {},
   "source": [
    "## 3. Examples"
   ]
  },
  {
   "cell_type": "markdown",
   "metadata": {},
   "source": [
    "Flow's examples are a good starting point to..."
   ]
  },
  {
   "cell_type": "code",
   "execution_count": null,
   "metadata": {},
   "outputs": [],
   "source": []
  }
 ],
 "metadata": {
  "kernelspec": {
   "display_name": "Python 3",
   "language": "python",
   "name": "python3"
  },
  "language_info": {
   "codemirror_mode": {
    "name": "ipython",
    "version": 3
   },
   "file_extension": ".py",
   "mimetype": "text/x-python",
   "name": "python",
   "nbconvert_exporter": "python",
   "pygments_lexer": "ipython3",
   "version": "3.7.0"
  }
 },
 "nbformat": 4,
 "nbformat_minor": 2
}
