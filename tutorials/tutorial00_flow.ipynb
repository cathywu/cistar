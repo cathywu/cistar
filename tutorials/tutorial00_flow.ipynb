{
 "cells": [
  {
   "cell_type": "markdown",
   "metadata": {},
   "source": [
    "# Tutorial 0: Flow\n",
    "\n",
    "This tutorial serves as an introduction to Flow; it will give you a better understanding about how to use it and will walk you through the structure of our code. Whether you want to be serious about using Flow or wish to contribute to the project, it is important that you first understand the flow of our codebase.\n",
    "\n",
    "Note that this is not an installation tutorial. Flow's installation instructions are available [here](http://flow.readthedocs.io/en/latest/flow_setup.html). \n",
    "\n",
    "This tutorial is organized as follows:\n",
    "\n",
    "* **[Section 1](#1.-High-level-flow)** gives a high-level description of how to use Flow.\n",
    "* **[Section 2](#2.-Low-level-content)** provides a more in-depth description for each folder within the `flow` directory.\n",
    "* **[Section 3](#3.-Examples)** talks about the `examples` folder, which contains good starting points for you to work with once you are done with the tutorials. \n",
    "\n",
    "\n",
    "\n",
    "**How to get help:** If you happen, throughout this tutorial or the following ones, to have any general or technical question related to Flow, don't hesitate to have a look on [Stack Overflow](https://stackoverflow.com/questions/tagged/flow-project) and see if it has been answered already, or otherwise to post it using the tag `flow-project`. We will be happy to help you!"
   ]
  },
  {
   "cell_type": "markdown",
   "metadata": {},
   "source": [
    "## 1. High-level flow"
   ]
  },
  {
   "cell_type": "markdown",
   "metadata": {},
   "source": [
    "Flow acts as a bridge between a traffic simulator (e.g. Sumo, Aimsun...) and a reinforcement learning library (e.g. RLlib, rllab...). It provides you with an interface that lets you train agents on a custom road network without having to worry about integration with the traffic simulator and the learning library. Flow creates this connection automatically, and also provides you with some tools to analyze the trained policies.\n",
    "\n",
    "In order to get started and train your own agent on your own road network, all you will need is: \n",
    "\n",
    "- <u>**a scenario**</u>: this is basically the term we use to talk about a road network. A scenario is a class that contains information about the road network on which your agents will be trained. It describes the roads (position, size, number of lanes, speed limit...), the connections between the roads (junctions, intersections...) and possibly other information (traffic lights...).\n",
    "\n",
    "- <u>**an environment**</u>: this is an RL environment _(**not to be confused** with the physical environment that we call scenario)_. It is a class that allows you to control how the agent will be trained. You should define and can then tune: a **state space** (what the agent can see, for instance the position and speed of all vehicles in the network, or the difference of speed with the vehicle in front of the agent), an **action space** (what the agent can do, for instance a list of accelerations to apply to all RL vehicles, or a list of new states for all traffic lights), and a **reward function** (what the agent will try to maximize, for instance the mean speed of all vehicles in the network).\n",
    "\n",
    "_Flow already contains a dozen of pre-defined scenarios and their corresponding environments that you can re-use or use as models to build your own scenarios and environments._\n",
    "\n",
    "Once you have defined these two classes, the last step is to set up the parameters of the simulation, for instance:\n",
    "\n",
    "- number of iterations (for the RL algorithm), number of rollouts (simulations) in each iteration, horizon (number of steps in each rollout)\n",
    "\n",
    "- vehicles to add in the network (human vehicles, RL vehicles, vehicle inflows...), color sequences for traffic lights (if there are any)\n",
    "\n",
    "- Flow parameters: name of the simulation, scenario and environment classes to be used, simulator to use (Sumo, Aimsun...)\n",
    "\n",
    "- RL algorithm to use (PPO, TRPO...), parameters of the algorithm (discount rate, neural network parameters...), number of CPUs/GPUs to use, checkpoint frequency, whether or not to restart from an old checkpoint (to resume training or do transfer learning)\n",
    "\n",
    "- whether or not to render the simulation (if you don't see anything happening in the simulator when you run the experiment, it is because rendering has been disabled, which makes training significantly faster)\n",
    "\n",
    "It is also possible to run a simulation without doing any training, in this case you don't need an environment nor an RL algorithm.\n",
    "\n",
    "Flow has a lot of examples setting up all these simulation parameters, so you can simply take one of them and modify it according to your needs. Once this is done, you can execute the Python file where the experiment is set up and the training shall begin. \n",
    "\n",
    "During the training or after it has ended, you can use Flow's visualization tools in order to visualize the data saved in the checkpoint files generated during the training. You can see how well your agent is doing by running a new simulation in the simulator, that will used the trained policy (this time, the simulation will be rendered). You can also plot the reward or return functions, time-space diagrams, capacity diagrams... "
   ]
  },
  {
   "cell_type": "markdown",
   "metadata": {},
   "source": [
    "## 2. Low-level content"
   ]
  },
  {
   "cell_type": "markdown",
   "metadata": {},
   "source": [
    "benchmarks, controllers, core, envs, multiagent_envs, renderer, scenario, utils, visualize\n",
    "\n"
   ]
  },
  {
   "cell_type": "markdown",
   "metadata": {},
   "source": [
    "## 3. Examples"
   ]
  },
  {
   "cell_type": "markdown",
   "metadata": {},
   "source": [
    "<hr>"
   ]
  },
  {
   "cell_type": "markdown",
   "metadata": {},
   "source": [
    "<hr>"
   ]
  },
  {
   "cell_type": "markdown",
   "metadata": {},
   "source": [
    "<hr>"
   ]
  },
  {
   "cell_type": "markdown",
   "metadata": {},
   "source": [
    "<hr>"
   ]
  },
  {
   "cell_type": "code",
   "execution_count": null,
   "metadata": {},
   "outputs": [],
   "source": [
    "a = 1\n",
    "b = 2\n",
    "\n",
    "def add(a, b):\n",
    "    return a + b"
   ]
  },
  {
   "cell_type": "markdown",
   "metadata": {},
   "source": [
    "Then we could show the functionality of the methods as follows:"
   ]
  },
  {
   "cell_type": "code",
   "execution_count": null,
   "metadata": {},
   "outputs": [],
   "source": [
    "add(a, b)"
   ]
  },
  {
   "cell_type": "markdown",
   "metadata": {},
   "source": [
    "Whenever possible, sections should also be broken up into smaller subsections to help the reader more quickly identify which portion of the tutorial discusses which topic. This may be helpful to readers who are just interested in certain concept, e.g. just to find out how a specific parameter works. An example of this separation of subsections can be seen in Section 2."
   ]
  },
  {
   "cell_type": "markdown",
   "metadata": {},
   "source": [
    "## 2. Sequentially Building a Class\n",
    "\n",
    "Classes, like lines of code presented in the prior section, should be described and written sequentially rather than all at once. An example of this can be for a class version of the add method, described below.\n",
    "\n",
    "### 2.1 Introduce and Instantiate the Class\n",
    "\n",
    "We begin by defining the class with its `__init__` method, and import any necessary modules. Make sure there are enough comments in the code to make it s much self-explanatory as possible."
   ]
  },
  {
   "cell_type": "code",
   "execution_count": null,
   "metadata": {},
   "outputs": [],
   "source": [
    "import numpy as np\n",
    "\n",
    "\n",
    "class Adder(object):\n",
    "\n",
    "    def __init__(self, numbers):\n",
    "        \"\"\"Instantiate the Adder class.\n",
    "\n",
    "        Parameters\n",
    "        ----------\n",
    "        numbers : array_like\n",
    "            the numbers that should be added together.\n",
    "        \"\"\"\n",
    "        self.numbers = numbers"
   ]
  },
  {
   "cell_type": "markdown",
   "metadata": {},
   "source": [
    "### 2.2 Include (Sequentially) New Methods\n",
    "\n",
    "Next, we add a new method to the class. We do this by recreating the class and having it inherit its previous properties. As an example of this, let us consider including a `run` method to the `Adder` class than adds the numbers that is provided to the class during instantiation."
   ]
  },
  {
   "cell_type": "code",
   "execution_count": null,
   "metadata": {},
   "outputs": [],
   "source": [
    "class Adder(Adder):  # continuing from the previous definition of Adder\n",
    "\n",
    "    def run(self):\n",
    "        return np.sum(self.numbers)"
   ]
  },
  {
   "cell_type": "markdown",
   "metadata": {},
   "source": [
    "### 2.3 Demonstrate Functionality of the Class\n",
    "\n",
    "Finally, we can demonstrate the functionality of the class, through testing and validating the class, as seen in the code snippet below."
   ]
  },
  {
   "cell_type": "code",
   "execution_count": null,
   "metadata": {},
   "outputs": [],
   "source": [
    "adder = Adder([1, 2, 3])\n",
    "\n",
    "print(\"The sum of the values is:\", adder.run())"
   ]
  },
  {
   "cell_type": "markdown",
   "metadata": {},
   "source": [
    "## 3. Adding the Changes to the README and Website\n",
    "\n",
    "Once you have completed your tutorial, you must include your new tutorial in all relevant descriptors of Flow's tutorials. This include adding it to both README and the Flow Website.\n",
    "\n",
    "### 3.1 README\n",
    "\n",
    "For one, begin by adding the new tutorial to the README.md file located in the tutorials/ directory (see the figure below). This should be included in your Pull Request (PR) whenever creating a new tutorial.\n",
    "\n",
    "<img src=\"img/tutorials_readme.png\">\n",
    "\n",
    "You just need to add your tutorial with the correct number and title under the last tutorial in the README.md:\n",
    "\n",
    "`\n",
    "**Tutorial XX:** Name of your tutorial.\n",
    "`\n",
    "\n",
    "### 3.2 Website\n",
    "\n",
    "Next, you need to inform the Flow web designer to add your tutorial to the Flow website:\n",
    "\n",
    "<img src=\"img/tutorials_website.png\">\n",
    "\n",
    "To do so, send the Title and the Github link to your tutorial to the Flow web designer."
   ]
  }
 ],
 "metadata": {
  "kernelspec": {
   "display_name": "Python 3",
   "language": "python",
   "name": "python3"
  },
  "language_info": {
   "codemirror_mode": {
    "name": "ipython",
    "version": 3
   },
   "file_extension": ".py",
   "mimetype": "text/x-python",
   "name": "python",
   "nbconvert_exporter": "python",
   "pygments_lexer": "ipython3",
   "version": "3.7.0"
  }
 },
 "nbformat": 4,
 "nbformat_minor": 2
}
