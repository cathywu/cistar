{
 "cells": [
  {
   "cell_type": "markdown",
   "metadata": {},
   "source": [
    "# Tutorial 14: Params Classes\n",
    "\n",
    "This tutorial walks you through the use of different parameters classes. Understanding how these classes work is fundamental in designing your own experiments in Flow. \n",
    "\n",
    "The classes featured in this tutorial are `InitialConfig`,`SimParams`, `SumoParams`, `SumoCarFollowingParams`, `EnvParams`, `VehicleParams`, and `SumoLaneChangeParams`. Each of these classes is detailed in their corresponding sections in this tutorial. All of them are defined in __flow/core/params.py__.\n",
    "\n",
    "This tutorial uses the classical Ring experiment involving a loop with a single lane and a fixed number of vehicles on it, similar to what is done in tutorial 1. Unlike tutorial 1, this one focuses on the use of the parameters in the classes.\n",
    "\n",
    "**This tutorial is divided into 7 sections and is organized as follows:**\n",
    "\n",
    "1. `InitialConfig`\n",
    "2. `SimParams`\n",
    "3. `SumoParams`\n",
    "4. `SumoCarFollowingParams`\n",
    "5. `EnvParams`\n",
    "6. `VehicleParams`\n",
    "7. `SumoLaneChangeParams`\n",
    "\n",
    "\n",
    "## 1. InitialConfig\n",
    "\n",
    "`InitialConfig` specifies parameters that affect the positioning of vehicles in the network at the start of a rollout. These parameters can be used, for instance, to limit the edges and number of lanes vehicles initially occupy or to provide a means of adding randomness to the starting positions of vehicles. By default, the vehicles are uniformly distributed in the network, across all edges and lanes.\n",
    "\n",
    "The \"vehicles\" mean the vehicles that are initially present in the network when the simulation starts, i.e. not the vehicles added during the simulation via inflows but those that were added via `vehicles.add(num_vehicles=...)`.\n",
    "\n",
    "### 1.1 List of possible parameters\n",
    "\n",
    "Following are the parameters which can be set up within `InitialConfig`, along with their default values and description:\n",
    "\n",
    "\n",
    "- `shuffle` (_bool, optional_): specifies whether the ordering of the vehicles should be shuffled. Default to False.\n",
    "- `spacing` (_str, optional_): specifies the initial positioning of the vehicles. Can be either one of: \n",
    "    - \"uniform\": (default value): the vehicles will be placed uniformly\n",
    "    - \"random\": the vehicles will be placed randomly\n",
    "    - \"custom\": you must specify a custom ordering\n",
    "- `min_gap` (_float, optional_): the minimum gap to be kept between two vehicles among all the vehicles, in meters. Defaults to 0 meters. \n",
    "- `x0` (_float, optional_): position of the first vehicle to be placed in the network. Can be used to shift the position of all the vehicles. The position is an edge position (c.f. the `specify_edge_starts` method in the scenario). Defaults to 0.\n",
    "- `perturbation` (_float, optional_): standard deviation used to perturb the vehicles from their uniform position, in meters (this is only used in case `spacing` is set to \"uniform\"). Defaults to 0 meters.\n",
    "- `bunching` (_float, optional_): reduce the portion of the network that should be filled with vehicles by this amount, in edge length. Defaults to 0. \n",
    "- `lanes_distribution` (_int, optional_): number of lanes the vehicles should be dispersed into. If the value is greater than the total number of lanes on an edge, vehicles are spread across all lanes. Defaults to infinity.\n",
    "- `edges_distribution` (_str / str list / (str -> int) dict, optional_): edges vehicles may be placed on. Can be either one of:\n",
    "    - \"all\": vehicles are distributed over all edges (default)\n",
    "    - list of edges vehicles can be distributed over\n",
    "    - dict where for each item, the key is the name of the edge and the value is the number of cars to place on that edge.\n",
    "- `additional_params` (_dict, optional_): some other network-specific parameters.\n",
    "\n",
    "### 1.2 Example using the Ring experiment\n",
    "\n",
    "The following lines of codes create a basic experiment in a ring, with 22 vehicles whose initial respective position of each one can modified using `InitialConfig`. If you don't understand the following code, head over to tutorial 1 which explains it.\n",
    "\n",
    "Let's start by creating the vehicles that will be affected by the initial configuration, as well as the configuration itself:"
   ]
  },
  {
   "cell_type": "code",
   "execution_count": null,
   "metadata": {},
   "outputs": [],
   "source": [
    "from flow.core.params import VehicleParams, InitialConfig\n",
    "from flow.controllers import IDMController, ContinuousRouter\n",
    "\n",
    "# we add 22 vehicles that will be affected by the InitialConfig object\n",
    "vehicles = VehicleParams()\n",
    "vehicles.add(\"human\",\n",
    "        acceleration_controller=(IDMController, {}),\n",
    "        routing_controller=(ContinuousRouter, {}),\n",
    "        num_vehicles=22)\n",
    "\n",
    "# set up initial config \n",
    "initial_config = InitialConfig(\n",
    "    spacing=\"uniform\",\n",
    "    bunching=20\n",
    ")"
   ]
  },
  {
   "cell_type": "markdown",
   "metadata": {},
   "source": [
    "Then, let's write the rest of the code necessary for the simulation, and run it."
   ]
  },
  {
   "cell_type": "code",
   "execution_count": 15,
   "metadata": {},
   "outputs": [
    {
     "name": "stdout",
     "output_type": "stream",
     "text": [
      "InitialConfig:\n"
     ]
    },
    {
     "data": {
      "application/vnd.jupyter.widget-view+json": {
       "model_id": "64d26582dc4a44129bcab5cfbe5b6799",
       "version_major": 2,
       "version_minor": 0
      },
      "text/plain": [
       "ToggleButtons(description='shuffle:', options=('False', 'True'), value='False')"
      ]
     },
     "metadata": {},
     "output_type": "display_data"
    },
    {
     "data": {
      "application/vnd.jupyter.widget-view+json": {
       "model_id": "85d7723596ef444099deeef58b6b5b58",
       "version_major": 2,
       "version_minor": 0
      },
      "text/plain": [
       "ToggleButtons(description='spacing:', options=('uniform', 'random'), value='uniform')"
      ]
     },
     "metadata": {},
     "output_type": "display_data"
    },
    {
     "data": {
      "application/vnd.jupyter.widget-view+json": {
       "model_id": "e45e3192836148c8b37b609bbce2b008",
       "version_major": 2,
       "version_minor": 0
      },
      "text/plain": [
       "FloatText(value=5.0, description='min_gap:')"
      ]
     },
     "metadata": {},
     "output_type": "display_data"
    },
    {
     "data": {
      "application/vnd.jupyter.widget-view+json": {
       "model_id": "3ebc73c64ebd4bbfbb429d228e842060",
       "version_major": 2,
       "version_minor": 0
      },
      "text/plain": [
       "FloatText(value=0.0, description='x0:')"
      ]
     },
     "metadata": {},
     "output_type": "display_data"
    },
    {
     "data": {
      "application/vnd.jupyter.widget-view+json": {
       "model_id": "304976d5f497471fa24fb0df99dbdde4",
       "version_major": 2,
       "version_minor": 0
      },
      "text/plain": [
       "FloatText(value=0.0, description='perturbation:')"
      ]
     },
     "metadata": {},
     "output_type": "display_data"
    },
    {
     "data": {
      "application/vnd.jupyter.widget-view+json": {
       "model_id": "ccbe2f9122d946059324dd7336d53fd1",
       "version_major": 2,
       "version_minor": 0
      },
      "text/plain": [
       "FloatText(value=0.0, description='bunching:')"
      ]
     },
     "metadata": {},
     "output_type": "display_data"
    },
    {
     "data": {
      "application/vnd.jupyter.widget-view+json": {
       "model_id": "f957f01e736f41e4b799efb80cf549a8",
       "version_major": 2,
       "version_minor": 0
      },
      "text/plain": [
       "IntText(value=0, description='lanes_distribution:')"
      ]
     },
     "metadata": {},
     "output_type": "display_data"
    },
    {
     "data": {
      "application/vnd.jupyter.widget-view+json": {
       "model_id": "c41a8bb600004880b3949796c6d4b382",
       "version_major": 2,
       "version_minor": 0
      },
      "text/plain": [
       "SelectMultiple(description='edges_distribution', options=('bottom', 'right', 'top', 'left'), value=())"
      ]
     },
     "metadata": {},
     "output_type": "display_data"
    },
    {
     "name": "stdout",
     "output_type": "stream",
     "text": [
      "\n"
     ]
    },
    {
     "data": {
      "application/vnd.jupyter.widget-view+json": {
       "model_id": "1f6069e49cd24e1b960c3a5a3c3db840",
       "version_major": 2,
       "version_minor": 0
      },
      "text/plain": [
       "Button(description='Start Simulation', style=ButtonStyle())"
      ]
     },
     "metadata": {},
     "output_type": "display_data"
    }
   ],
   "source": [
    "import ipywidgets as widgets\n",
    "\n",
    "\n",
    "def on_button_clicked(b):\n",
    "    print(\"Button clicked.\")\n",
    "\n",
    "\n",
    "shuffle = widgets.ToggleButtons(options=['False', 'True'], description='shuffle:')\n",
    "spacing = widgets.ToggleButtons(options=['uniform', 'random'], description='spacing:')\n",
    "min_gap = widgets.FloatText(value=5.0, description='min_gap:')\n",
    "x0 = widgets.FloatText(value=0.0, description='x0:')\n",
    "pertubration = widgets.FloatText(value=0.0, description='perturbation:')\n",
    "bunching = widgets.FloatText(value=0.0, description='bunching:')\n",
    "lanes_distribution = widgets.IntText(value=0, description='lanes_distribution:')\n",
    "edges_distribution = widgets.SelectMultiple(description=\"edges_distribution\", \n",
    "                                            options=['bottom', 'right', 'top', 'left'])\n",
    "\n",
    "start_button = widgets.Button(description=\"Start Simulation\")\n",
    "\n",
    "print('InitialConfig:')\n",
    "display(shuffle, spacing, min_gap, x0, pertubration, bunching, lanes_distribution, edges_distribution)\n",
    "print()\n",
    "display(button)\n",
    "\n",
    "start_button.on_click(on_button_clicked)"
   ]
  },
  {
   "cell_type": "markdown",
   "metadata": {},
   "source": [
    "Feel free to play around with the parameters set in `InitialConfig`. For example, you can try the following:"
   ]
  },
  {
   "cell_type": "code",
   "execution_count": null,
   "metadata": {},
   "outputs": [],
   "source": [
    "from flow.core.experiment import Experiment\n",
    "from flow.core.params import SumoParams, EnvParams, NetParams\n",
    "from flow.envs.loop.loop_accel import AccelEnv, ADDITIONAL_ENV_PARAMS\n",
    "from flow.scenarios.loop import LoopScenario, ADDITIONAL_NET_PARAMS\n",
    "\n",
    "sim_params = SumoParams(sim_step=0.1, render=True)\n",
    "net_params = NetParams(additional_params=ADDITIONAL_NET_PARAMS)\n",
    "env_params = EnvParams(additional_params=ADDITIONAL_ENV_PARAMS)\n",
    "\n",
    "# create the scenario object\n",
    "scenario = LoopScenario(\n",
    "    name=\"ring\",\n",
    "    vehicles=vehicles,\n",
    "    net_params=net_params)\n",
    "\n",
    "# create the environment object\n",
    "env = AccelEnv(env_params, sim_params, scenario)\n",
    "exp = Experiment(env)\n",
    "\n",
    "# run for a set number of rollouts / time steps\n",
    "exp.run(1, 1500)"
   ]
  },
  {
   "cell_type": "markdown",
   "metadata": {},
   "source": [
    "## 2. SimParams\n",
    "\n",
    "These are the simulation-specific parameters.\n",
    "Following is how the class is defined in `params.py`.\n",
    "\n",
    "        def __init__(self,\n",
    "                 sim_step=0.1,\n",
    "                 render=False,\n",
    "                 restart_instance=False,\n",
    "                 emission_path=None,\n",
    "                 save_render=False,\n",
    "                 sight_radius=25,\n",
    "                 show_radius=False,\n",
    "                 pxpm=2,\n",
    "                 color_vehicles=True):\n",
    "        \"\"\"Instantiate SimParams.\"\"\"\n",
    "        self.sim_step = sim_step\n",
    "        self.render = render\n",
    "        self.restart_instance = restart_instance\n",
    "        self.emission_path = emission_path\n",
    "        self.save_render = save_render\n",
    "        self.sight_radius = sight_radius\n",
    "        self.pxpm = pxpm\n",
    "        self.show_radius = show_radius\n",
    "        self.color_vehicles = color_vehicles\n",
    "        \n",
    "\n",
    "### 2.1 List of possible parameters\n",
    "\n",
    "- `sim_step` (_float, optional_): seconds per simulation step; 0.1 by default\n",
    "- `render` (_str or bool, optional_): specifies whether to visualize the rollout(s)\n",
    "     - False: no rendering\n",
    "     - True: delegate rendering to sumo-gui for back-compatibility\n",
    "     - \"gray\": static grayscale rendering, which is good for training\n",
    "     - \"dgray\": dynamic grayscale rendering\n",
    "     - \"rgb\": static RGB rendering\n",
    "     - \"drgb\": dynamic RGB rendering, which is good for visualization\n",
    "- `restart_instance` (_bool, optional_): specifies whether to restart a simulation upon reset. Restarting the instance helps avoid slowdowns cause by excessive inflows over large experiment runtimes, but also require the gui to be started after every reset if \"render\" is set to True.\n",
    "- `emission_path` (_str, optional_): Path to the folder in which to create the emissions output. Emissions output is not generated if this value is not specified\n",
    "- `save_render` (_bool, optional_): specifies whether to save rendering data to disk\n",
    "- `sight_radius` (_int, optional_): sets the radius of observation for RL vehicles (meter)\n",
    "- `show_radius` (_bool, optional_): specifies whether to render the radius of RL observation\n",
    "- `pxpm` (_int, optional_): specifies rendering resolution (pixel / meter)\n",
    "- `color_vehicles` (_bool, optional_): whether or not to automatically color vehicles according to their types\n",
    "\n",
    "\n",
    "\n",
    "### 2.2 Extensions\n",
    "\n",
    "We did not show an example under this once since the parameters above can be associated to either one of the 2 extensions of this class which are:\n",
    "\n",
    "1. SumoParams (_This is discussed in the next section._)\n",
    "2. AimsunParam (_This includes parameters which can be used for running a simulation in Aimsun, thus it is better to refer to __Tutorial 2 - Aimsun__)"
   ]
  },
  {
   "cell_type": "markdown",
   "metadata": {},
   "source": [
    "## 3. SumoParams\n",
    "\n",
    "This is an extension of the class `SimParams` where it allows the users to have SUMO-specific simulation parameters.\n",
    "\n",
    "These parameters are used to customize a SUMO simulation instance upon initialization. This includes passing the simulation step length, specifying whether to use SUMO's gui during a run, and other features described in the parameters below with their corresponding default values.\n",
    "    \n",
    "    def __init__(self,\n",
    "                 port=None,\n",
    "                 sim_step=0.1,\n",
    "                 emission_path=None,\n",
    "                 lateral_resolution=None,\n",
    "                 no_step_log=True,\n",
    "                 render=False,\n",
    "                 save_render=False,\n",
    "                 sight_radius=25,\n",
    "                 show_radius=False,\n",
    "                 pxpm=2,\n",
    "                 overtake_right=False,\n",
    "                 seed=None,\n",
    "                 restart_instance=False,\n",
    "                 print_warnings=True,\n",
    "                 teleport_time=-1,\n",
    "                 num_clients=1,\n",
    "                 sumo_binary=None):\n",
    "\n",
    "### 3.1 List of possible parameters\n",
    "\n",
    "Following are the parameters which can be set up within `SumoParams`, along with their default values and description:\n",
    "\n",
    "- `port` (_int, optional_): Port for Traci to connect to; finds an empty port by default\n",
    "- `sim_step` (_float, optional_): seconds per simulation step; 0.1 by default\n",
    "- `emission_path` (_str, optional_): Path to the folder in which to create the emissions output. Emissions output is not generated if this value is not specified\n",
    "- `lateral_resolution` (_float, optional_): width of the divided sublanes within a lane, defaults to None (i.e. no sublanes). If this value is specified, the vehicle in the network cannot use the \"LC2013\" lane change model.\n",
    "- `no_step_log` (_bool, optional_): specifies whether to add SUMO's step logs to the log file, and print them into the terminal during runtime, defaults to True\n",
    "- `render` (_str or bool, optional_): specifies whether to visualize the rollout(s)\n",
    "    - False: no rendering\n",
    "    - True: delegate rendering to SUMO-GUI for back-compatibility\n",
    "    - \"gray\": static grayscale rendering, which is good for training\n",
    "    - \"dgray\": dynamic grayscale rendering\n",
    "    - \"rgb\": static RGB rendering\n",
    "    - \"drgb\": dynamic RGB rendering, which is good for visualization\n",
    "- `save_render` (_bool, optional_): specifies whether to save rendering data to disk\n",
    "- `sight_radius` (_int, optional_): sets the radius of observation for RL vehicles (meter)\n",
    "- `show_radius` (_bool, optional_): specifies whether to render the radius of RL observation\n",
    "- `pxpm` (_int, optional_): specifies rendering resolution (pixel / meter)\n",
    "- `overtake_right` (_bool, optional_): whether vehicles are allowed to overtake on the right as well as the left\n",
    "- `seed` (_int, optional_): seed for sumo instance\n",
    "- `restart_instance` (_bool, optional): specifies whether to restart a sumo instance upon reset. Restarting the instance helps avoid slowdowns cause by excessive inflows over large experiment runtimes, but also require the gui to be started after every reset if \"render\" is set to True.\n",
    "- `print_warnings` (_bool, optional_): If set to false, this will silence sumo warnings on the stdout\n",
    "- `teleport_time` (_int, optional_): If negative, vehicles don't teleport in gridlock. If positive, they teleport after teleport_time seconds\n",
    "- `num_clients` (_int, optional_): Number of clients that will connect to Traci\n",
    "\n",
    "### 3.2 Example uing the Ring experiment\n",
    "\n",
    "Similar to the two previous sections, we'll use the ring experiment as an example."
   ]
  },
  {
   "cell_type": "code",
   "execution_count": null,
   "metadata": {},
   "outputs": [],
   "source": [
    "# This part initializes the Ring experiment. \n",
    "\n",
    "from flow.controllers import IDMController, ContinuousRouter\n",
    "from flow.core.experiment import Experiment\n",
    "from flow.core.params import SumoParams, EnvParams, \\\n",
    "    InitialConfig, NetParams, VehicleParams\n",
    "from flow.envs.loop.loop_accel import AccelEnv, ADDITIONAL_ENV_PARAMS\n",
    "from flow.scenarios.loop import LoopScenario, ADDITIONAL_NET_PARAMS\n",
    "    \n",
    "name = \"ring_example\"\n",
    "\n",
    "vehicles = VehicleParams()\n",
    "    \n",
    "vehicles.add(\"human\",\n",
    "        acceleration_controller=(IDMController, {}),\n",
    "        routing_controller=(ContinuousRouter, {}),\n",
    "        num_vehicles=22)\n",
    "    \n",
    "\n",
    "env_params = EnvParams(additional_params=ADDITIONAL_ENV_PARAMS)\n",
    "\n",
    "additional_net_params = ADDITIONAL_NET_PARAMS.copy()\n",
    "net_params = NetParams(additional_params=additional_net_params)\n",
    "initial_config = InitialConfig()"
   ]
  },
  {
   "cell_type": "markdown",
   "metadata": {},
   "source": [
    "Below is the cell which contains SumoParams. And this is where you can perform some modifications involving this class."
   ]
  },
  {
   "cell_type": "code",
   "execution_count": null,
   "metadata": {},
   "outputs": [],
   "source": [
    "sim_params = SumoParams(sim_step=0.1, render=True)\n",
    "\n",
    "# sim_step = 0.1 sets the simulation time step to 0.1\n",
    "# render = True lets you see the simulation using the SUMO GUI\n",
    "\n",
    "# create the scenario object\n",
    "scenario = LoopScenario(\n",
    "    name=\"ring\",\n",
    "    vehicles=vehicles,\n",
    "    net_params=net_params)\n",
    "\n",
    "# create the environment object\n",
    "env = AccelEnv(env_params, sim_params, scenario)\n",
    "\n",
    "exp = Experiment(env)\n",
    "\n",
    "# run for a set number of rollouts / time steps\n",
    "exp.run(1, 1500)"
   ]
  },
  {
   "cell_type": "markdown",
   "metadata": {},
   "source": [
    "Observe the differences as you change or add the parameters declared within `sim_step=SumoParams()` in cell `In [6]`.\n",
    "\n",
    "For example, instead of using \n",
    "\n",
    "`sim_params = SumoParams(sim_step=0.1, render=True)`\n",
    "     \n",
    "try changing it to \n",
    "     \n",
    "     `sim_params = SumoParams(\n",
    "            sim_step=0.1,\n",
    "            render=True,\n",
    "            emission_path=\"./data/\"\n",
    "            )`\n",
    "\n",
    "There should now be emission files (CSV & XML files) created within the specified location (here, it should be at the `data` folder in Flow. The XML file is the ones that contains emission information based on the built-in SUMO emission model. If you did not add `emission_path=\"./data/`, no such files will be created.\n",
    "\n",
    "You can add more parameters and specify the attributes within `SumoParams` to further modify the simulation."
   ]
  },
  {
   "cell_type": "markdown",
   "metadata": {},
   "source": [
    "## 4. SumoCarFollowingParams\n",
    "\n",
    "This section focuses on the discussion of parameters for SUMO-controlled acceleration behavior.\n",
    "   \n",
    "Following is the class declaration and the corresponding default values for the parameters:\n",
    "\n",
    "            def __init__(\n",
    "            self,\n",
    "            speed_mode='right_of_way',\n",
    "            accel=1.0,\n",
    "            decel=1.5,\n",
    "            sigma=0.5,\n",
    "            tau=1.0,\n",
    "            min_gap=2.5,\n",
    "            max_speed=30,\n",
    "            speed_factor=1.0,\n",
    "            speed_dev=0.1,\n",
    "            impatience=0.5,\n",
    "            car_follow_model=\"IDM\",\n",
    "            **kwargs):\n",
    "\n",
    "        \n",
    "### 4.1 List of possible parameters\n",
    "\n",
    "The parameters within this class are:\n",
    "\n",
    "- speed_mode (_str or int, optional_) may be one of the following:\n",
    "    - \"right_of_way\" (default): respect safe speed, right of way and brake hard at red lights if needed. DOES NOT respect max acceleration and deceleration which enables emergency stopping.\n",
    "\n",
    "        Necessary to prevent custom models from crashing:\n",
    "        \n",
    "- \"obey_safe_speed\": prevents vehicles from colliding longitudinally, but can fail in cases where vehicles are allowed to lane change\n",
    "- \"no_collide\": Human and RL cars are preventing from reaching speeds that may cause crashes (also serves as a failsafe). Note: this may lead to collisions in complex networks\n",
    "- \"aggressive\": Human and RL cars are not limited by sumo with regard to their accelerations, and can crash longitudinally\n",
    "- \"all_checks\": all sumo safety checks are activated\n",
    "- int values may be used to define custom speed mode for the given vehicles, specified at: http://sumo.dlr.de/wiki/TraCI/Change_Vehicle_State#speed_mode_.280xb3.29\n",
    "\n",
    "- `accel` (_float_): see Note\n",
    "- `decel` (_float_): see Note\n",
    "- `sigma` (_float_): see Note\n",
    "- `tau` (_float_): see Note\n",
    "- `min_gap` (_float_): see minGap Note\n",
    "- `max_speed` (_float_): see maxSpeed Note\n",
    "- `speed_factor` (_float_): see speedFactor Note\n",
    "- `speed_dev` (_float_): see speedDev in Note\n",
    "- `impatience` (_float_): see Note\n",
    "- `car_follow_model` (_str_): see carFollowModel in Note\n",
    "- `kwargs` (_dict_): used to handle deprecations\n",
    "\n",
    "Note:\n",
    "    For a description of all params, see: http://sumo.dlr.de/wiki/Definition_of_Vehicles,_Vehicle_Types,_and_Routes\n",
    "    More details available at: http://sumo.dlr.de/wiki/TraCI/Change_Vehicle_State#speed_mode_.280xb3.29\n",
    "\n",
    "### 4.2 Example using the Ring experiment\n",
    "\n",
    "We again run the Ring experiment, but now with focus on this class.\n",
    " \n",
    "Similar to the first two sections of this tutorial, the following lines of codes call the necessary functions defined in Flow. This also adds vehicles, sets up the environment, and declares network parameters."
   ]
  },
  {
   "cell_type": "code",
   "execution_count": null,
   "metadata": {},
   "outputs": [],
   "source": [
    "from flow.controllers import IDMController, ContinuousRouter\n",
    "from flow.core.experiment import Experiment\n",
    "from flow.core.params import SumoParams, EnvParams, SumoCarFollowingParams, NetParams, VehicleParams\n",
    "from flow.envs.loop.loop_accel import AccelEnv, ADDITIONAL_ENV_PARAMS\n",
    "from flow.scenarios.loop import LoopScenario, ADDITIONAL_NET_PARAMS\n",
    "\n",
    "name = \"ring_example\"\n",
    "sim_params = SumoParams(sim_step=0.1, render=True)\n",
    "\n",
    "env_params = EnvParams(additional_params=ADDITIONAL_ENV_PARAMS)\n",
    "\n",
    "additional_net_params = ADDITIONAL_NET_PARAMS.copy()\n",
    "net_params = NetParams(additional_params=additional_net_params)"
   ]
  },
  {
   "cell_type": "markdown",
   "metadata": {},
   "source": [
    "The SUMO Car Following Parameters class can be used within the declaration of the vehicles in the simulation.\n",
    "\n",
    "Look for `car_following_params=SumoCarFollowingParams (speed_mode=\"no_collide\")` in the code below and that's where you can modify this within `SumoCarFollowingParams()` to make it work the way you like it. \n",
    "\n",
    "Run the following code to see for yourself that it is running until the cell where you should be able to run the simulation in the SUMO GUI."
   ]
  },
  {
   "cell_type": "code",
   "execution_count": null,
   "metadata": {},
   "outputs": [],
   "source": [
    "vehicles = VehicleParams()\n",
    "\n",
    "vehicles.add(\"human\",\n",
    "        acceleration_controller=(IDMController, {}),\n",
    "        routing_controller=(ContinuousRouter, {}),\n",
    "        car_following_params=SumoCarFollowingParams\n",
    "            (speed_mode=\"no_collide\"),\n",
    "        num_vehicles=22)"
   ]
  },
  {
   "cell_type": "markdown",
   "metadata": {},
   "source": [
    "The cell below, when ran, completes the scenario and should be able to render the simulation in the SUMO GUI."
   ]
  },
  {
   "cell_type": "code",
   "execution_count": null,
   "metadata": {},
   "outputs": [],
   "source": [
    "# create the scenario object\n",
    "scenario = LoopScenario(\n",
    "    name=\"ring\",\n",
    "    vehicles=vehicles,\n",
    "    net_params=net_params)\n",
    "\n",
    "# create the environment object\n",
    "env = AccelEnv(env_params, sim_params, scenario)\n",
    "\n",
    "exp = Experiment(env)\n",
    "\n",
    "# run for a set number of rollouts / time steps\n",
    "exp.run(1, 1500)"
   ]
  },
  {
   "cell_type": "markdown",
   "metadata": {},
   "source": [
    "Observe the differences as you change or add the parameters declared within `SumoCarFollowingParams` in cell `In [8]`.\n",
    "\n",
    "For example, instead of using \n",
    "\n",
    "    car_following_params=SumoCarFollowingParams(speed_mode=\"no_collide\")\n",
    "\n",
    "try changing it to \n",
    "     \n",
    "    car_following_params=SumoCarFollowingParams(\n",
    "        minGap=0.01,\n",
    "        tau=0.5,\n",
    "        speed_mode=\"aggressive\"\n",
    "    )\n",
    "\n",
    "Many things can be done within this class to conform to your needs, adjust this based on your preference/needs."
   ]
  },
  {
   "cell_type": "markdown",
   "metadata": {},
   "source": [
    "This is the section where you should be able to modify the parameters within the `SumoParams` class."
   ]
  },
  {
   "cell_type": "markdown",
   "metadata": {},
   "source": [
    "The cell below, when ran, completes the scenario and should be able to render the simulation in the SUMO GUI."
   ]
  },
  {
   "cell_type": "markdown",
   "metadata": {},
   "source": [
    "## 5. EnvParams\n",
    "\n",
    "The `EnvParams` class enables you to specify the bounds of the action space and relevant coefficients to the reward function, as well as specifying how the positions of vehicles are modified in between rollouts.\n",
    "\n",
    "Below is the definition of the class with the parameters and their corresponding default values:\n",
    "\n",
    "    def __init__(self,\n",
    "                 additional_params=None,\n",
    "                 horizon=500,\n",
    "                 warmup_steps=0,\n",
    "                 sims_per_step=1,\n",
    "                 evaluate=False):\n",
    "                 \n",
    "        self.additional_params = \\\n",
    "            additional_params if additional_params is not None else {}\n",
    "        self.horizon = horizon\n",
    "        self.warmup_steps = warmup_steps\n",
    "        self.sims_per_step = sims_per_step\n",
    "        self.evaluate = evaluate\n",
    "\n",
    "        def get_additional_param(self, key):\n",
    "        \"\"\"Return a variable from additional_params.\"\"\"\n",
    "        return self.additional_params[key]\n",
    "\n",
    "### 5.1 List of possible parameters\n",
    "\n",
    "Following are the parameters which can be set up within `EnvParams`, along with their default values and description:\n",
    "\n",
    "- `additional_params` (_dict, optional_): Specify additional environment params for a specific environment configuration\n",
    "- `horizon` (_int, optional_)\n",
    "- `warmup_steps` (_int, optional_): number of steps per rollouts; this is the number of steps performed before the initialization of training during a rollout. These warmup steps are not added as steps into training, and the actions of RL agents during these steps are dictated by SUMO. Defaults to zero\n",
    "- `sims_per_step` (_int, optional_): number of SUMO simulation steps performed in any given rollout step. RL agents perform the same action for the duration of these simulation steps.\n",
    "- `evaluate` (_bool, optional_): flag indicating that the evaluation reward should be used so the evaluation reward should be used rather than the normal reward  \n",
    "\n",
    "### 5.2 Example using the Ring experiment\n",
    "\n",
    "Similar to that of the previous sections, we'll use the Ring experiment as an example."
   ]
  },
  {
   "cell_type": "code",
   "execution_count": null,
   "metadata": {},
   "outputs": [],
   "source": [
    "# This part initializes the Ring experiment. \n",
    "\n",
    "from flow.controllers import IDMController, ContinuousRouter\n",
    "from flow.core.experiment import Experiment\n",
    "from flow.core.params import SumoParams, EnvParams, \\\n",
    "    InitialConfig, NetParams, VehicleParams\n",
    "from flow.envs.loop.loop_accel import AccelEnv, ADDITIONAL_ENV_PARAMS\n",
    "from flow.scenarios.loop import LoopScenario, ADDITIONAL_NET_PARAMS\n",
    "\n",
    "name = \"ring_example\"\n",
    "\n",
    "vehicles = VehicleParams()\n",
    "\n",
    "vehicles.add(\"human\",\n",
    "        acceleration_controller=(IDMController, {}),\n",
    "        routing_controller=(ContinuousRouter, {}),\n",
    "        num_vehicles=22)\n",
    "\n",
    "additional_net_params = ADDITIONAL_NET_PARAMS.copy()\n",
    "net_params = NetParams(additional_params=additional_net_params)\n",
    "initial_config = InitialConfig()\n",
    "\n",
    "sim_params = SumoParams(sim_step=0.1, render=True)"
   ]
  },
  {
   "cell_type": "markdown",
   "metadata": {},
   "source": [
    "This is the section where you should be able to modify the parameters within the `EnvParams` class."
   ]
  },
  {
   "cell_type": "code",
   "execution_count": null,
   "metadata": {},
   "outputs": [],
   "source": [
    "env_params = EnvParams(additional_params=ADDITIONAL_ENV_PARAMS)"
   ]
  },
  {
   "cell_type": "markdown",
   "metadata": {},
   "source": [
    "### The cell below, when ran, completes the scenario and should be able to render the simulation in the SUMO GUI."
   ]
  },
  {
   "cell_type": "code",
   "execution_count": null,
   "metadata": {},
   "outputs": [],
   "source": [
    "# create the scenario object\n",
    "scenario = LoopScenario(\n",
    "    name=\"ring\",\n",
    "    vehicles=vehicles,\n",
    "    net_params=net_params)\n",
    "\n",
    "# create the environment object\n",
    "env = AccelEnv(env_params, sim_params, scenario)\n",
    "\n",
    "exp = Experiment(env)\n",
    "\n",
    "# run for a set number of rollouts / time steps\n",
    "exp.run(1, 1500)"
   ]
  },
  {
   "cell_type": "markdown",
   "metadata": {},
   "source": [
    "Observe the differences as you change or add the parameters declared within `EnvParams` in cell `In [11]`.\n",
    "\n",
    "For example, instead of using \n",
    "\n",
    "`env_params = EnvParams(additional_params=ADDITIONAL_ENV_PARAMS)`\n",
    "     \n",
    "try changing it to: \n",
    "     \n",
    "     `env_params = EnvParams(\n",
    "            warmup_steps=40,\n",
    "            sims_per_step=1,\n",
    "            horizon=HORIZON,\n",
    "            additional_params=additional_env_params,\n",
    "            )`\n",
    "\n",
    "\n",
    "You can add more parameters and specify the attributes within `EnvParams` to further modify the simulation."
   ]
  },
  {
   "cell_type": "markdown",
   "metadata": {},
   "source": [
    "## 6. VehicleParams\n",
    "\n",
    "This is used to describe the state of all vehicles in the network. This allows you to state the information on the vehicles for a given time step can be set or retrieved from this class.\n",
    "\n",
    "### 6.1 List of possible parameters\n",
    "\n",
    "- `veh_id` (_str_): base vehicle ID for the vehicles (will be appended by a number)\n",
    "- `acceleration_controller` (_tup, optional_):\n",
    "    - 1st element: flow-specified acceleration controller\n",
    "    - 2nd element: controller parameters (may be set to None to maintain default parameters)\n",
    "- `lane_change_controller` (_tup, optional_):\n",
    "    - 1st element: flow-specified lane-changer controller\n",
    "    - 2nd element: controller parameters (may be set to None to maintain default parameters)\n",
    "- `routing_controller` (_tup, optional_):\n",
    "    - 1st element: flow-specified routing controller\n",
    "    - 2nd element: controller parameters (may be set to None to maintain default parameters)\n",
    "- `initial_speed` (_float, optional_): initial speed of the vehicles being added (in m/s)\n",
    "- `num_vehicles` (_int, optional_): number of vehicles of this type to be added to the network\n",
    "- `car_following_params` (from _flow.core.params.SumoCarFollowingParams_): Params object specifying attributes for SUMO car following model.\n",
    "- `lane_change_params` (from _flow.core.params.SumoLaneChangeParams_): Params object specifying attributes for Sumo lane changing model.\n",
    "\n",
    "### 6.2 Example using the Ring experiment\n",
    "\n",
    "The following lines of codes create a basic experiment in a ring as described in tutorial 1. This one focuses on how you can apply changes in `VehicleParams`. The parameters above can be added/modified inside the code `vehicles.add()` as can be observed in the example below. You can try modifying any of the parameters in `vehicles.add()` according to the values that you need in your simulation involving the properties of vehicle to be added in the system at the start of the simulation."
   ]
  },
  {
   "cell_type": "code",
   "execution_count": null,
   "metadata": {},
   "outputs": [],
   "source": [
    "from flow.controllers import IDMController, ContinuousRouter\n",
    "from flow.core.experiment import Experiment\n",
    "from flow.core.params import SumoParams, EnvParams, \\\n",
    "    SumoCarFollowingParams, NetParams, VehicleParams\n",
    "from flow.envs.loop.loop_accel import AccelEnv, ADDITIONAL_ENV_PARAMS\n",
    "from flow.scenarios.loop import LoopScenario, ADDITIONAL_NET_PARAMS\n",
    "\n",
    "name = \"ring_example\"\n",
    "sim_params = SumoParams(sim_step=0.1, render=True)\n",
    "\n",
    "env_params = EnvParams(additional_params=ADDITIONAL_ENV_PARAMS)\n",
    "\n",
    "additional_net_params = ADDITIONAL_NET_PARAMS.copy()\n",
    "net_params = NetParams(additional_params=additional_net_params)\n",
    "#initial_config = InitialConfig(bunching=20)\n",
    "\n",
    "vehicles = VehicleParams()\n",
    "\n",
    "vehicles.add(\"human\",\n",
    "        acceleration_controller=(IDMController, {}),\n",
    "        routing_controller=(ContinuousRouter, {}),\n",
    "        car_following_params=SumoCarFollowingParams\n",
    "            (speed_mode=\"no_collide\"),\n",
    "        num_vehicles=22)\n",
    "\n",
    "# create the scenario object\n",
    "scenario = LoopScenario(\n",
    "    name=\"ring\",\n",
    "    vehicles=vehicles,\n",
    "    net_params=net_params)\n",
    "\n",
    "# create the environment object\n",
    "env = AccelEnv(env_params, sim_params, scenario)\n",
    "\n",
    "exp = Experiment(env)\n",
    "\n",
    "# run for a set number of rollouts / time steps\n",
    "exp.run(1, 1500)"
   ]
  },
  {
   "cell_type": "markdown",
   "metadata": {},
   "source": [
    "## 7. SumoLaneChangeParams\n",
    "\n",
    "This is used to describe the SUMO-controlled lane change behavior.\n",
    "\n",
    "### 7.1 List of possible parameters\n",
    "\n",
    "\n",
    "- `lane_change_mode` (_str or int, optional_): may be one of the following:\n",
    "\n",
    "    - \"no_lat_collide\" (default): Human cars will not make lane changes, RL cars can lane change into any space, no matter how likely it is to crash\n",
    "    - \"strategic\": Human cars make lane changes in accordance with SUMO to provide speed boosts\n",
    "    - \"aggressive\": RL cars are not limited by sumo with regard to their lane-change actions, and can crash longitudinally\n",
    "    - * int values may be used to define custom lane change modes for the given vehicles, specified at: http://sumo.dlr.de/wiki/TraCI/Change_Vehicle_State#lane_change_mode_.280xb6.29\n",
    "\n",
    "- `model` (_str, optional_): see laneChangeModel in Note\n",
    "- `lc_strategic` (_float, optional_): see lcStrategic in Note\n",
    "- `lc_cooperative` (_float, optional_): see lcCooperative in Note\n",
    "- `lc_speed_gain` (_float, optional_): see lcSpeedGain in Note\n",
    "- `lc_keep_right` (_float, optional_): see lcKeepRight in Note\n",
    "- `lc_look_ahead_left` (_float, optional_): see lcLookaheadLeft in Note\n",
    "- `lc_speed_gain_right` (_float, optional_): see lcSpeedGainRight in Note\n",
    "- `lc_sublane` (_float, optional_): see lcSublane in Note\n",
    "- `lc_pushy` (_float, optional_): see lcPushy in Note\n",
    "- `lc_pushy_gap` (_float, optional_): see lcPushyGap in Note\n",
    "- `lc_assertive` (_float, optional_): see lcAssertive in Note\n",
    "- `lc_impatience` (_float, optional_): see lcImpatience in Note\n",
    "- `lc_time_to_impatience` (_float, optional_): see lcTimeToImpatience in Note\n",
    "- `lc_accel_lat` (_float, optional_): see lcAccelLate in Note\n",
    "- `kwargs` (_dict_): used to handle deprecations\n",
    "\n",
    "\n",
    "Note:\n",
    "    For a description of all params, see:\n",
    "    http://sumo.dlr.de/wiki/Definition_of_Vehicles,_Vehicle_Types,_and_Routes\n",
    "\n",
    "\n",
    "### 7.2 Example using the Ring experiment with two lanes \n",
    "\n",
    "Same to that of the previous sections, we'll use the Ring experiment as an example but with __two lane__ now to illustrate how the SumoLaneChangeParams work.\n"
   ]
  },
  {
   "cell_type": "code",
   "execution_count": null,
   "metadata": {},
   "outputs": [],
   "source": [
    "from flow.controllers import IDMController, ContinuousRouter\n",
    "from flow.core.experiment import Experiment\n",
    "from flow.core.params import SumoParams, EnvParams, \\\n",
    "    SumoCarFollowingParams, NetParams, VehicleParams, SumoLaneChangeParams\n",
    "from flow.envs.loop.loop_accel import AccelEnv, ADDITIONAL_ENV_PARAMS\n",
    "from flow.scenarios.loop import LoopScenario, ADDITIONAL_NET_PARAMS\n",
    "\n",
    "name = \"ring_example\"\n",
    "\n",
    "sim_params = SumoParams(sim_step=0.1, render=True)\n",
    "\n",
    "env_params = EnvParams(additional_params=ADDITIONAL_ENV_PARAMS)\n",
    "\n",
    "additional_net_params = ADDITIONAL_NET_PARAMS.copy()\n",
    "net_params = NetParams(additional_params={\"length\":230, \"lanes\": 2,\n",
    "                                         \"speed_limit\": 30, \"resolution\": 40})\n",
    "\n",
    "#initial_config = InitialConfig(bunching=20)\n",
    "\n",
    "vehicles = VehicleParams()\n",
    "\n",
    "vehicles.add(\"human\",\n",
    "        acceleration_controller=(IDMController, {}),\n",
    "        routing_controller=(ContinuousRouter, {}),\n",
    "        car_following_params=SumoCarFollowingParams\n",
    "            (speed_mode=\"no_collide\"),\n",
    "        num_vehicles=22,\n",
    "        lane_change_params=SumoLaneChangeParams(lane_change_mode=1621))\n",
    "\n",
    "# create the scenario object\n",
    "scenario = LoopScenario(\n",
    "    name=\"ring\",\n",
    "    vehicles=vehicles,\n",
    "    net_params=net_params)\n",
    "\n",
    "# create the environment object\n",
    "env = AccelEnv(env_params, sim_params, scenario)\n",
    "\n",
    "exp = Experiment(env)\n",
    "\n",
    "# run for a set number of rollouts / time steps\n",
    "exp.run(1, 1500)"
   ]
  },
  {
   "cell_type": "markdown",
   "metadata": {},
   "source": [
    "Look for `lane_change_params=SumoLaneChangeParams(lane_change_mode=1621)` in the code above and try substituing other values to `lane_change_mode` or substituting other parameters to it. Again, refer to the given note to know more about the parameters."
   ]
  }
 ],
 "metadata": {
  "kernelspec": {
   "display_name": "Python 3",
   "language": "python",
   "name": "python3"
  },
  "language_info": {
   "codemirror_mode": {
    "name": "ipython",
    "version": 3
   },
   "file_extension": ".py",
   "mimetype": "text/x-python",
   "name": "python",
   "nbconvert_exporter": "python",
   "pygments_lexer": "ipython3",
   "version": "3.6.8"
  }
 },
 "nbformat": 4,
 "nbformat_minor": 2
}
